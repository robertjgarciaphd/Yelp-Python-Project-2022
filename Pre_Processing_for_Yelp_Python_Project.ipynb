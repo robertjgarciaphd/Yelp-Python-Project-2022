{
  "nbformat": 4,
  "nbformat_minor": 0,
  "metadata": {
    "colab": {
      "provenance": [],
      "collapsed_sections": []
    },
    "kernelspec": {
      "name": "python3",
      "display_name": "Python 3"
    },
    "language_info": {
      "name": "python"
    }
  },
  "cells": [
    {
      "cell_type": "code",
      "execution_count": 1,
      "metadata": {
        "colab": {
          "base_uri": "https://localhost:8080/"
        },
        "id": "UhuitapLLNdT",
        "outputId": "3651da05-307e-4d13-8811-12d10e0f4521"
      },
      "outputs": [
        {
          "output_type": "execute_result",
          "data": {
            "text/plain": [
              "131072"
            ]
          },
          "metadata": {},
          "execution_count": 1
        }
      ],
      "source": [
        "import json\n",
        "import pandas as pd\n",
        "import numpy as np\n",
        "import sys\n",
        "import csv\n",
        "import plotly.express as px\n",
        "import matplotlib.pyplot as plt\n",
        "import scipy.stats as stats\n",
        "import seaborn as sns\n",
        "\n",
        "\n",
        "csv.field_size_limit(sys.maxsize)"
      ]
    },
    {
      "cell_type": "code",
      "source": [
        "chunks = pd.read_csv(\"/content/drive/MyDrive/yelp_data_ready1.csv\", engine='python', chunksize = 500000)\n",
        "counter = 1\n",
        "for c in chunks:\n",
        "  if counter == 1: \n",
        "    print(counter)\n",
        "    df = c.copy()\n",
        "    counter += 1\n",
        "  else: \n",
        "    print(counter)\n",
        "    df = pd.concat([df,c])\n",
        "    counter += 1\n",
        "  #Chunk is like a list of dataframes\n",
        "\n",
        "  "
      ],
      "metadata": {
        "colab": {
          "base_uri": "https://localhost:8080/"
        },
        "id": "W4TV7b58LdMQ",
        "outputId": "98568d7c-362f-480d-f26b-c3694ce046d6"
      },
      "execution_count": 4,
      "outputs": [
        {
          "output_type": "stream",
          "name": "stdout",
          "text": [
            "1\n",
            "2\n",
            "3\n",
            "4\n",
            "5\n",
            "6\n",
            "7\n",
            "8\n",
            "9\n",
            "10\n"
          ]
        }
      ]
    },
    {
      "cell_type": "code",
      "source": [
        "df = df.drop(['useful', 'funny', 'cool'], axis=1)\n",
        "df = df.drop(['is_vegan_restaurant', 'is_vegetarian_restaurant', 'is_omnivore_restaurant', 'biz_veg_code', 'user_vegan', 'user_vegetarian', 'user_omnivore', 'user_veg_code'], axis=1)"
      ],
      "metadata": {
        "id": "jTBqWFSmMTUU"
      },
      "execution_count": 6,
      "outputs": []
    },
    {
      "cell_type": "code",
      "source": [
        "df.head()"
      ],
      "metadata": {
        "colab": {
          "base_uri": "https://localhost:8080/",
          "height": 664
        },
        "id": "nD0nKDGBQ4xf",
        "outputId": "efb31633-5a2c-46b0-ac25-b51a151e18b9"
      },
      "execution_count": 14,
      "outputs": [
        {
          "output_type": "execute_result",
          "data": {
            "text/plain": [
              "   Unnamed: 0               review_id                 user_id  \\\n",
              "0           0  KU_O5udG6zpxOg-VcAEodg  mh_-eMZ6K5RLWhZyISBhwA   \n",
              "1           1  VJxlBnJmCDIy8DFG0kjSow  Iaee7y6zdSB3B-kRCo4z1w   \n",
              "2           2  S6pQZQocMB1WHMjTRbt77A  ejFxLGqQcWNLdNByJlIhnQ   \n",
              "3           3  WqgTKVqWVHDHjnjEsBvUgg  f7xa0p_1V9lx53iIGN5Sug   \n",
              "4           4  M0wzFFb7pefOPcxeRVbLag  dCooFVCk8M1nVaQqcfTL3Q   \n",
              "\n",
              "              business_id  stars_x                 date  review_year  \\\n",
              "0  XQfwVwDr-v0ZS3_CbbE5Xw        3  2018-07-07 22:09:11         2018   \n",
              "1  XQfwVwDr-v0ZS3_CbbE5Xw        2  2017-05-13 17:06:55         2017   \n",
              "2  XQfwVwDr-v0ZS3_CbbE5Xw        4  2017-08-08 00:58:18         2017   \n",
              "3  XQfwVwDr-v0ZS3_CbbE5Xw        3  2017-11-19 02:20:23         2017   \n",
              "4  XQfwVwDr-v0ZS3_CbbE5Xw        2  2017-09-09 17:49:47         2017   \n",
              "\n",
              "   review_month  review_date         city  ...  \\\n",
              "0             7            7  North Wales  ...   \n",
              "1             5           13  North Wales  ...   \n",
              "2             8            8  North Wales  ...   \n",
              "3            11           19  North Wales  ...   \n",
              "4             9            9  North Wales  ...   \n",
              "\n",
              "                                          categories is_restaurant  \\\n",
              "0  Restaurants, Breakfast & Brunch, Food, Juice B...             1   \n",
              "1  Restaurants, Breakfast & Brunch, Food, Juice B...             1   \n",
              "2  Restaurants, Breakfast & Brunch, Food, Juice B...             1   \n",
              "3  Restaurants, Breakfast & Brunch, Food, Juice B...             1   \n",
              "4  Restaurants, Breakfast & Brunch, Food, Juice B...             1   \n",
              "\n",
              "   is_vegan_restaurant  is_vegetarian_restaurant  is_omnivore_restaurant  \\\n",
              "0                    0                         0                       1   \n",
              "1                    0                         0                       1   \n",
              "2                    0                         0                       1   \n",
              "3                    0                         0                       1   \n",
              "4                    0                         0                       1   \n",
              "\n",
              "   biz_veg_code  user_vegan user_vegetarian  user_omnivore  user_veg_code  \n",
              "0      Omnivore    0.000000        0.000000       1.000000       Omnivore  \n",
              "1      Omnivore    0.000000        0.000000       1.000000       Omnivore  \n",
              "2      Omnivore    0.020619        0.041237       0.938144       Omnivore  \n",
              "3      Omnivore    0.018692        0.018692       0.962617       Omnivore  \n",
              "4      Omnivore    0.000000        0.000000       1.000000       Omnivore  \n",
              "\n",
              "[5 rows x 27 columns]"
            ],
            "text/html": [
              "\n",
              "  <div id=\"df-07d20d9c-b910-4044-bb81-1ff8e594d9d8\">\n",
              "    <div class=\"colab-df-container\">\n",
              "      <div>\n",
              "<style scoped>\n",
              "    .dataframe tbody tr th:only-of-type {\n",
              "        vertical-align: middle;\n",
              "    }\n",
              "\n",
              "    .dataframe tbody tr th {\n",
              "        vertical-align: top;\n",
              "    }\n",
              "\n",
              "    .dataframe thead th {\n",
              "        text-align: right;\n",
              "    }\n",
              "</style>\n",
              "<table border=\"1\" class=\"dataframe\">\n",
              "  <thead>\n",
              "    <tr style=\"text-align: right;\">\n",
              "      <th></th>\n",
              "      <th>Unnamed: 0</th>\n",
              "      <th>review_id</th>\n",
              "      <th>user_id</th>\n",
              "      <th>business_id</th>\n",
              "      <th>stars_x</th>\n",
              "      <th>date</th>\n",
              "      <th>review_year</th>\n",
              "      <th>review_month</th>\n",
              "      <th>review_date</th>\n",
              "      <th>city</th>\n",
              "      <th>...</th>\n",
              "      <th>categories</th>\n",
              "      <th>is_restaurant</th>\n",
              "      <th>is_vegan_restaurant</th>\n",
              "      <th>is_vegetarian_restaurant</th>\n",
              "      <th>is_omnivore_restaurant</th>\n",
              "      <th>biz_veg_code</th>\n",
              "      <th>user_vegan</th>\n",
              "      <th>user_vegetarian</th>\n",
              "      <th>user_omnivore</th>\n",
              "      <th>user_veg_code</th>\n",
              "    </tr>\n",
              "  </thead>\n",
              "  <tbody>\n",
              "    <tr>\n",
              "      <th>0</th>\n",
              "      <td>0</td>\n",
              "      <td>KU_O5udG6zpxOg-VcAEodg</td>\n",
              "      <td>mh_-eMZ6K5RLWhZyISBhwA</td>\n",
              "      <td>XQfwVwDr-v0ZS3_CbbE5Xw</td>\n",
              "      <td>3</td>\n",
              "      <td>2018-07-07 22:09:11</td>\n",
              "      <td>2018</td>\n",
              "      <td>7</td>\n",
              "      <td>7</td>\n",
              "      <td>North Wales</td>\n",
              "      <td>...</td>\n",
              "      <td>Restaurants, Breakfast &amp; Brunch, Food, Juice B...</td>\n",
              "      <td>1</td>\n",
              "      <td>0</td>\n",
              "      <td>0</td>\n",
              "      <td>1</td>\n",
              "      <td>Omnivore</td>\n",
              "      <td>0.000000</td>\n",
              "      <td>0.000000</td>\n",
              "      <td>1.000000</td>\n",
              "      <td>Omnivore</td>\n",
              "    </tr>\n",
              "    <tr>\n",
              "      <th>1</th>\n",
              "      <td>1</td>\n",
              "      <td>VJxlBnJmCDIy8DFG0kjSow</td>\n",
              "      <td>Iaee7y6zdSB3B-kRCo4z1w</td>\n",
              "      <td>XQfwVwDr-v0ZS3_CbbE5Xw</td>\n",
              "      <td>2</td>\n",
              "      <td>2017-05-13 17:06:55</td>\n",
              "      <td>2017</td>\n",
              "      <td>5</td>\n",
              "      <td>13</td>\n",
              "      <td>North Wales</td>\n",
              "      <td>...</td>\n",
              "      <td>Restaurants, Breakfast &amp; Brunch, Food, Juice B...</td>\n",
              "      <td>1</td>\n",
              "      <td>0</td>\n",
              "      <td>0</td>\n",
              "      <td>1</td>\n",
              "      <td>Omnivore</td>\n",
              "      <td>0.000000</td>\n",
              "      <td>0.000000</td>\n",
              "      <td>1.000000</td>\n",
              "      <td>Omnivore</td>\n",
              "    </tr>\n",
              "    <tr>\n",
              "      <th>2</th>\n",
              "      <td>2</td>\n",
              "      <td>S6pQZQocMB1WHMjTRbt77A</td>\n",
              "      <td>ejFxLGqQcWNLdNByJlIhnQ</td>\n",
              "      <td>XQfwVwDr-v0ZS3_CbbE5Xw</td>\n",
              "      <td>4</td>\n",
              "      <td>2017-08-08 00:58:18</td>\n",
              "      <td>2017</td>\n",
              "      <td>8</td>\n",
              "      <td>8</td>\n",
              "      <td>North Wales</td>\n",
              "      <td>...</td>\n",
              "      <td>Restaurants, Breakfast &amp; Brunch, Food, Juice B...</td>\n",
              "      <td>1</td>\n",
              "      <td>0</td>\n",
              "      <td>0</td>\n",
              "      <td>1</td>\n",
              "      <td>Omnivore</td>\n",
              "      <td>0.020619</td>\n",
              "      <td>0.041237</td>\n",
              "      <td>0.938144</td>\n",
              "      <td>Omnivore</td>\n",
              "    </tr>\n",
              "    <tr>\n",
              "      <th>3</th>\n",
              "      <td>3</td>\n",
              "      <td>WqgTKVqWVHDHjnjEsBvUgg</td>\n",
              "      <td>f7xa0p_1V9lx53iIGN5Sug</td>\n",
              "      <td>XQfwVwDr-v0ZS3_CbbE5Xw</td>\n",
              "      <td>3</td>\n",
              "      <td>2017-11-19 02:20:23</td>\n",
              "      <td>2017</td>\n",
              "      <td>11</td>\n",
              "      <td>19</td>\n",
              "      <td>North Wales</td>\n",
              "      <td>...</td>\n",
              "      <td>Restaurants, Breakfast &amp; Brunch, Food, Juice B...</td>\n",
              "      <td>1</td>\n",
              "      <td>0</td>\n",
              "      <td>0</td>\n",
              "      <td>1</td>\n",
              "      <td>Omnivore</td>\n",
              "      <td>0.018692</td>\n",
              "      <td>0.018692</td>\n",
              "      <td>0.962617</td>\n",
              "      <td>Omnivore</td>\n",
              "    </tr>\n",
              "    <tr>\n",
              "      <th>4</th>\n",
              "      <td>4</td>\n",
              "      <td>M0wzFFb7pefOPcxeRVbLag</td>\n",
              "      <td>dCooFVCk8M1nVaQqcfTL3Q</td>\n",
              "      <td>XQfwVwDr-v0ZS3_CbbE5Xw</td>\n",
              "      <td>2</td>\n",
              "      <td>2017-09-09 17:49:47</td>\n",
              "      <td>2017</td>\n",
              "      <td>9</td>\n",
              "      <td>9</td>\n",
              "      <td>North Wales</td>\n",
              "      <td>...</td>\n",
              "      <td>Restaurants, Breakfast &amp; Brunch, Food, Juice B...</td>\n",
              "      <td>1</td>\n",
              "      <td>0</td>\n",
              "      <td>0</td>\n",
              "      <td>1</td>\n",
              "      <td>Omnivore</td>\n",
              "      <td>0.000000</td>\n",
              "      <td>0.000000</td>\n",
              "      <td>1.000000</td>\n",
              "      <td>Omnivore</td>\n",
              "    </tr>\n",
              "  </tbody>\n",
              "</table>\n",
              "<p>5 rows × 27 columns</p>\n",
              "</div>\n",
              "      <button class=\"colab-df-convert\" onclick=\"convertToInteractive('df-07d20d9c-b910-4044-bb81-1ff8e594d9d8')\"\n",
              "              title=\"Convert this dataframe to an interactive table.\"\n",
              "              style=\"display:none;\">\n",
              "        \n",
              "  <svg xmlns=\"http://www.w3.org/2000/svg\" height=\"24px\"viewBox=\"0 0 24 24\"\n",
              "       width=\"24px\">\n",
              "    <path d=\"M0 0h24v24H0V0z\" fill=\"none\"/>\n",
              "    <path d=\"M18.56 5.44l.94 2.06.94-2.06 2.06-.94-2.06-.94-.94-2.06-.94 2.06-2.06.94zm-11 1L8.5 8.5l.94-2.06 2.06-.94-2.06-.94L8.5 2.5l-.94 2.06-2.06.94zm10 10l.94 2.06.94-2.06 2.06-.94-2.06-.94-.94-2.06-.94 2.06-2.06.94z\"/><path d=\"M17.41 7.96l-1.37-1.37c-.4-.4-.92-.59-1.43-.59-.52 0-1.04.2-1.43.59L10.3 9.45l-7.72 7.72c-.78.78-.78 2.05 0 2.83L4 21.41c.39.39.9.59 1.41.59.51 0 1.02-.2 1.41-.59l7.78-7.78 2.81-2.81c.8-.78.8-2.07 0-2.86zM5.41 20L4 18.59l7.72-7.72 1.47 1.35L5.41 20z\"/>\n",
              "  </svg>\n",
              "      </button>\n",
              "      \n",
              "  <style>\n",
              "    .colab-df-container {\n",
              "      display:flex;\n",
              "      flex-wrap:wrap;\n",
              "      gap: 12px;\n",
              "    }\n",
              "\n",
              "    .colab-df-convert {\n",
              "      background-color: #E8F0FE;\n",
              "      border: none;\n",
              "      border-radius: 50%;\n",
              "      cursor: pointer;\n",
              "      display: none;\n",
              "      fill: #1967D2;\n",
              "      height: 32px;\n",
              "      padding: 0 0 0 0;\n",
              "      width: 32px;\n",
              "    }\n",
              "\n",
              "    .colab-df-convert:hover {\n",
              "      background-color: #E2EBFA;\n",
              "      box-shadow: 0px 1px 2px rgba(60, 64, 67, 0.3), 0px 1px 3px 1px rgba(60, 64, 67, 0.15);\n",
              "      fill: #174EA6;\n",
              "    }\n",
              "\n",
              "    [theme=dark] .colab-df-convert {\n",
              "      background-color: #3B4455;\n",
              "      fill: #D2E3FC;\n",
              "    }\n",
              "\n",
              "    [theme=dark] .colab-df-convert:hover {\n",
              "      background-color: #434B5C;\n",
              "      box-shadow: 0px 1px 3px 1px rgba(0, 0, 0, 0.15);\n",
              "      filter: drop-shadow(0px 1px 2px rgba(0, 0, 0, 0.3));\n",
              "      fill: #FFFFFF;\n",
              "    }\n",
              "  </style>\n",
              "\n",
              "      <script>\n",
              "        const buttonEl =\n",
              "          document.querySelector('#df-07d20d9c-b910-4044-bb81-1ff8e594d9d8 button.colab-df-convert');\n",
              "        buttonEl.style.display =\n",
              "          google.colab.kernel.accessAllowed ? 'block' : 'none';\n",
              "\n",
              "        async function convertToInteractive(key) {\n",
              "          const element = document.querySelector('#df-07d20d9c-b910-4044-bb81-1ff8e594d9d8');\n",
              "          const dataTable =\n",
              "            await google.colab.kernel.invokeFunction('convertToInteractive',\n",
              "                                                     [key], {});\n",
              "          if (!dataTable) return;\n",
              "\n",
              "          const docLinkHtml = 'Like what you see? Visit the ' +\n",
              "            '<a target=\"_blank\" href=https://colab.research.google.com/notebooks/data_table.ipynb>data table notebook</a>'\n",
              "            + ' to learn more about interactive tables.';\n",
              "          element.innerHTML = '';\n",
              "          dataTable['output_type'] = 'display_data';\n",
              "          await google.colab.output.renderOutput(dataTable, element);\n",
              "          const docLink = document.createElement('div');\n",
              "          docLink.innerHTML = docLinkHtml;\n",
              "          element.appendChild(docLink);\n",
              "        }\n",
              "      </script>\n",
              "    </div>\n",
              "  </div>\n",
              "  "
            ]
          },
          "metadata": {},
          "execution_count": 14
        }
      ]
    },
    {
      "cell_type": "code",
      "source": [
        "#Coding biz as vegan or vegetarian restaurant or not\n",
        "#Coding as vegan first to preempt vegetarian restaurants overlapping them\n",
        "is_vegan_restaurant = []\n",
        "for item in df['categories']:\n",
        "  if item == None:\n",
        "    is_vegan_restaurant.append(0)\n",
        "  elif item.find('Vegan') != -1:\n",
        "    is_vegan_restaurant.append(1)\n",
        "  else: \n",
        "    is_vegan_restaurant.append(0)\n",
        "\n",
        "df['is_vegan_restaurant'] = is_vegan_restaurant\n",
        "\n",
        "is_vegetarian_restaurant = []\n",
        "for item in df['categories']:\n",
        "  if item == None:\n",
        "    is_vegetarian_restaurant.append(0)\n",
        "  elif item.find('Vegan') != -1:\n",
        "    is_vegetarian_restaurant.append(0)\n",
        "  elif item.find('Vegetarian') != -1:\n",
        "    is_vegetarian_restaurant.append(1)\n",
        "  else: \n",
        "    is_vegetarian_restaurant.append(0)\n",
        "\n",
        "df['is_vegetarian_restaurant'] = is_vegetarian_restaurant\n",
        "\n",
        "def is_omnivore(is_vegetarian,is_vegan):\n",
        "   if is_vegetarian or is_vegan:\n",
        "     return 0\n",
        "   return 1\n",
        "\n",
        "df['is_omnivore_restaurant'] = df.apply(lambda x: is_omnivore(x['is_vegetarian_restaurant'],x['is_vegan_restaurant']), axis = 1)\n",
        "\n",
        "def veg_code(is_vegetarian,is_vegan):\n",
        "  if is_vegetarian:\n",
        "    return 'Vegetarian'\n",
        "  if is_vegan:\n",
        "    return 'Vegan'\n",
        "  return 'Omnivore'\n",
        "\n",
        "df['biz_veg_code'] = df.apply(lambda x: veg_code(x['is_vegetarian_restaurant'],x['is_vegan_restaurant']), axis = 1)"
      ],
      "metadata": {
        "id": "StqlcJdQNdRq"
      },
      "execution_count": 8,
      "outputs": []
    },
    {
      "cell_type": "code",
      "source": [
        "#Assuming that veg*ns have >15% of the have the word vegan or vegetarian work?  \n",
        "#How do I get all the reviews within/by a given user?\n",
        "\n",
        "def veg_quant(x_vegetarian,x_vegan):\n",
        "  if ((x_vegetarian >= 0.15) & (x_vegan >= 0.15)):\n",
        "    return 'Vegan'\n",
        "  elif ((x_vegetarian < 0.15) & (x_vegan >= 0.15)):\n",
        "    return 'Vegan'\n",
        "  elif ((x_vegetarian >= 0.15) & (x_vegan < 0.15)):\n",
        "    return 'Vegetarian'\n",
        "  else:\n",
        "    return 'Omnivore'\n",
        "\n",
        "\n",
        "#user_id is the reviewer column\n",
        "#Text is the review content column\n",
        "\n",
        "#Need to do the same for trends_df\n",
        "\n",
        "#proportion of reviews by veg_code\n",
        "user_veg_code = df.groupby(['user_id'])[['is_vegan_restaurant', 'is_vegetarian_restaurant','is_omnivore_restaurant']].mean()\n",
        "\n",
        "\n",
        "#biz_veg_code = trends_df.groupby(['business_id'])[['vegan_review', 'vegetarian_review','omnivore_review']].mean()\n",
        "\n",
        "user_veg_code.columns = ['user_vegan', 'user_vegetarian', 'user_omnivore']\n",
        "#biz_veg_code.columns = ['biz_vegan', 'biz_vegetarian', 'biz_omnivore']"
      ],
      "metadata": {
        "id": "YTB2jNjSPHq6"
      },
      "execution_count": 9,
      "outputs": []
    },
    {
      "cell_type": "code",
      "source": [
        "df = pd.merge(df, user_veg_code, how = 'left', on = 'user_id')\n"
      ],
      "metadata": {
        "id": "D13MB4vTSMi5"
      },
      "execution_count": 11,
      "outputs": []
    },
    {
      "cell_type": "code",
      "source": [
        "df['user_veg_code'] = df.apply(lambda x: veg_quant(x['user_vegetarian'],x['user_vegan']), axis = 1)\n"
      ],
      "metadata": {
        "id": "OITd1gHwSyYQ"
      },
      "execution_count": 13,
      "outputs": []
    },
    {
      "cell_type": "code",
      "source": [
        "#Removing entries before 2012 and after 2021 due to small sample sizes.\n",
        "df = df[df['review_year'] > 2011]\n",
        "df = df[df['review_year'] < 2022]"
      ],
      "metadata": {
        "id": "LlWiabZvTkcC"
      },
      "execution_count": 15,
      "outputs": []
    },
    {
      "cell_type": "code",
      "source": [
        "df.biz_veg_code.value_counts()"
      ],
      "metadata": {
        "colab": {
          "base_uri": "https://localhost:8080/"
        },
        "id": "nNprU0A9T5uw",
        "outputId": "5c71da40-3c6e-4511-8d12-7b8a77aa43b5"
      },
      "execution_count": 16,
      "outputs": [
        {
          "output_type": "execute_result",
          "data": {
            "text/plain": [
              "Omnivore      4121881\n",
              "Vegan          110708\n",
              "Vegetarian     106617\n",
              "Name: biz_veg_code, dtype: int64"
            ]
          },
          "metadata": {},
          "execution_count": 16
        }
      ]
    },
    {
      "cell_type": "code",
      "source": [
        "df.user_veg_code.value_counts()"
      ],
      "metadata": {
        "colab": {
          "base_uri": "https://localhost:8080/"
        },
        "id": "ISOigGzOUrUM",
        "outputId": "d1e61c92-268d-45fd-8e6e-fb0b5ae53f75"
      },
      "execution_count": 17,
      "outputs": [
        {
          "output_type": "execute_result",
          "data": {
            "text/plain": [
              "Omnivore      4027098\n",
              "Vegan          171693\n",
              "Vegetarian     140415\n",
              "Name: user_veg_code, dtype: int64"
            ]
          },
          "metadata": {},
          "execution_count": 17
        }
      ]
    },
    {
      "cell_type": "code",
      "source": [
        "import os\n",
        "\n",
        "fname = 'yelp_data_ready3.csv'\n",
        "\n",
        "directory = './Desktop'\n",
        "if not os.path.exists(directory):\n",
        "    os.mkdir(directory)\n",
        "\n",
        "path = os.path.join(directory, fname)    \n",
        "\n",
        "df.to_csv(path)\n",
        "\n",
        "#Path is : /content/Desktop/yelp_data_ready3.csv"
      ],
      "metadata": {
        "id": "N8iLLNGWeFT9"
      },
      "execution_count": 18,
      "outputs": []
    },
    {
      "cell_type": "code",
      "source": [
        "#Method for reading in random rows for sentiment analysis\n",
        "#import random\n",
        "\n",
        "#filename = \"/content/drive/MyDrive/yelp_review.csv\"\n",
        "#n = sum(1 for line in open(filename)) - 1 #number of records in file (excludes header)\n",
        "#s = 500000 #desired sample size\n",
        "#skip = sorted(random.sample(range(1,n+1),n-s)) #the 0-indexed header will not be included in the skip list\n",
        "#df = pd.read_csv(filename, skiprows=skip) "
      ],
      "metadata": {
        "id": "Md4Kw4ifwXY-"
      },
      "execution_count": null,
      "outputs": []
    },
    {
      "cell_type": "code",
      "source": [
        "#from google.colab import files\n",
        "#uploaded = files.upload()\n",
        "\n",
        "#import io\n",
        "#df2 = pd.read_csv(io.BytesIO(uploaded['yelp_business_attributes.csv']))\n",
        "# Dataset is now stored in a Pandas Dataframe"
      ],
      "metadata": {
        "id": "uGUC_vCMwaXK"
      },
      "execution_count": null,
      "outputs": []
    },
    {
      "cell_type": "code",
      "source": [
        "#SOURCE FILES\n",
        "\n",
        "#File #1\n",
        "biz_attr_df = pd.read_json(\"/content/drive/MyDrive/yelp_academic_dataset_business.json\", lines=True)\n",
        "\n",
        "pd.set_option('display.max_columns', None)\n",
        "\n",
        "biz_attr_df = biz_attr_df.drop(['name','address', 'attributes','hours'],axis=1)\n",
        "biz_attr_df.head()"
      ],
      "metadata": {
        "id": "_dZNd_r7wyN1"
      },
      "execution_count": null,
      "outputs": []
    },
    {
      "cell_type": "code",
      "source": [
        "#Coding biz as restaurant or not\n",
        "is_restaurant = []\n",
        "for item in biz_attr_df['categories']:\n",
        "  if item == None:\n",
        "    is_restaurant.append(0)\n",
        "  elif item.find('Restaurants') != -1:\n",
        "    is_restaurant.append(1)\n",
        "  else: \n",
        "    is_restaurant.append(0)\n",
        "\n",
        "biz_attr_df['is_restaurant'] = is_restaurant\n",
        "#Removing non-restaurants\n",
        "biz_attr_df = biz_attr_df.loc[biz_attr_df['is_restaurant'] == 1,:]\n",
        "biz_attr_df.shape"
      ],
      "metadata": {
        "id": "clgNQR6Rw6A1"
      },
      "execution_count": null,
      "outputs": []
    },
    {
      "cell_type": "code",
      "source": [
        "#Coding biz as vegan or vegetarian restaurant or not\n",
        "#Coding as vegan first to preempt vegetarian restaurants overlapping them\n",
        "is_vegan_restaurant = []\n",
        "for item in biz_attr_df['categories']:\n",
        "  if item == None:\n",
        "    is_vegan_restaurant.append(0)\n",
        "  elif item.find('Vegan') != -1:\n",
        "    is_vegan_restaurant.append(1)\n",
        "  else: \n",
        "    is_vegan_restaurant.append(0)\n",
        "\n",
        "biz_attr_df['is_vegan_restaurant'] = is_vegan_restaurant\n",
        "\n",
        "is_vegetarian_restaurant = []\n",
        "for item in biz_attr_df['categories']:\n",
        "  if item == None:\n",
        "    is_vegetarian_restaurant.append(0)\n",
        "  elif item.find('Vegan') != -1:\n",
        "    is_vegetarian_restaurant.append(0)\n",
        "  elif item.find('Vegetarian') != -1:\n",
        "    is_vegetarian_restaurant.append(1)\n",
        "  else: \n",
        "    is_vegetarian_restaurant.append(0)\n",
        "\n",
        "biz_attr_df['is_vegetarian_restaurant'] = is_vegetarian_restaurant\n",
        "\n",
        "def is_omnivore(is_vegetarian,is_vegan):\n",
        "   if is_vegetarian or is_vegan:\n",
        "     return 0\n",
        "   return 1\n",
        "\n",
        "biz_attr_df['is_omnivore_restaurant'] = biz_attr_df.apply(lambda x: is_omnivore(x['is_vegetarian_restaurant'],x['is_vegan_restaurant']), axis = 1)\n",
        "\n",
        "def veg_code(is_vegetarian,is_vegan):\n",
        "  if is_vegetarian:\n",
        "    return 'Vegetarian'\n",
        "  if is_vegan:\n",
        "    return 'Vegan'\n",
        "  return 'Omnivore'\n",
        "\n",
        "biz_attr_df['biz_veg_code'] = biz_attr_df.apply(lambda x: veg_code(x['is_vegetarian_restaurant'],x['is_vegan_restaurant']), axis = 1)"
      ],
      "metadata": {
        "id": "6MDutIjCxKXj"
      },
      "execution_count": null,
      "outputs": []
    },
    {
      "cell_type": "code",
      "source": [
        "#Counting number of restaurants coded as both vegetarian and vegan\n",
        "\n",
        "counter = 0\n",
        "for item in biz_attr_df['categories']:\n",
        "  if item == None:\n",
        "    counter += 0\n",
        "  elif((item.find('Vegan') != -1) and (item.find('Vegetarian') != -1)):\n",
        "    counter += 1\n",
        "  else: \n",
        "        counter += 0\n",
        "\n",
        "print(counter)"
      ],
      "metadata": {
        "id": "WDXBkGlMx7zw"
      },
      "execution_count": null,
      "outputs": []
    },
    {
      "cell_type": "code",
      "source": [
        "#Checking to see if coding worked\n",
        "#df[(df['is_vegetarian_restaurant'] == 1) & (df['is_vegan_restaurant'] ==1)]"
      ],
      "metadata": {
        "id": "hEXVCScWx84C"
      },
      "execution_count": null,
      "outputs": []
    },
    {
      "cell_type": "code",
      "source": [
        "counter = 0\n",
        "for item in biz_attr_df['categories']:\n",
        "  if item == None:\n",
        "    counter += 0\n",
        "  elif(item.find('Vegetarian') != -1):\n",
        "    counter += 1\n",
        "  else: \n",
        "        counter += 0\n",
        "\n",
        "print(counter)"
      ],
      "metadata": {
        "id": "t_3gDfNCyHla"
      },
      "execution_count": null,
      "outputs": []
    },
    {
      "cell_type": "code",
      "source": [
        "#Splitting up the 5261668 rows in yelp_review.csv into three chunks for easier processing\n",
        "chunks = pd.read_json(\"/content/drive/MyDrive/yelp_academic_dataset_review.json\", chunksize = 500000, lines = True)\n",
        "counter = 1\n",
        "for c in chunks:\n",
        "  if counter == 1: \n",
        "    print(counter)\n",
        "    df = c.copy()\n",
        "    counter += 1\n",
        "  else: \n",
        "    print(counter)\n",
        "    df = pd.concat([df,c])\n",
        "    counter += 1\n",
        "\n",
        "#reviews_df1 = pd.read_csv(\"/content/drive/MyDrive/yelp_review.csv\", sep=',', engine='python', nrows = 2000000)\n",
        "# Dataset is now stored in a Pandas Dataframe"
      ],
      "metadata": {
        "id": "J5UqMz5RJ8Dv"
      },
      "execution_count": null,
      "outputs": []
    },
    {
      "cell_type": "code",
      "source": [
        "#Create columns with year, month, and day for graphing\n",
        "df['review_year'] = df['date'].dt.year\n",
        "df['review_month'] = df['date'].dt.month\n",
        "df['review_date'] = df['date'].dt.day"
      ],
      "metadata": {
        "id": "w9n0TdHEOIrR"
      },
      "execution_count": null,
      "outputs": []
    },
    {
      "cell_type": "code",
      "source": [
        "#Optional to conserve memory: drop text column\n",
        "df = df.drop(['text'], axis=1)"
      ],
      "metadata": {
        "id": "X5MSysnXOLE8"
      },
      "execution_count": null,
      "outputs": []
    },
    {
      "cell_type": "code",
      "source": [
        "df = df.drop(['useful', 'funny', 'cool'], axis=1)"
      ],
      "metadata": {
        "id": "P4kVjh65OWi0"
      },
      "execution_count": null,
      "outputs": []
    },
    {
      "cell_type": "code",
      "source": [
        "#searching through reviews for \"vegan\" as proxy for vegan restaurants - total = 41819 instances of 'vegan'\n",
        "np.sum(df['text'].str.contains(\"vegan\", case=False, flags=0, na=None, regex = False))"
      ],
      "metadata": {
        "id": "bFiC3LruSyeN"
      },
      "execution_count": null,
      "outputs": []
    },
    {
      "cell_type": "code",
      "source": [
        "#searching through reviews for \"vegetarian\" as proxy for vegetarian restaurants - total = 57976 instances of 'vegetarian'\n",
        "np.sum(df['text'].str.contains(\"vegetarian\", case=False, flags=0, na=None, regex = False))\n"
      ],
      "metadata": {
        "id": "C5VID3rxSyU9"
      },
      "execution_count": null,
      "outputs": []
    },
    {
      "cell_type": "code",
      "source": [
        "biz_reviews_attrs = pd.merge(df, biz_attr_df, how = 'inner', on = 'business_id' )\n",
        "biz_reviews_attrs.head(20)"
      ],
      "metadata": {
        "id": "zkaicz4jT3Zz"
      },
      "execution_count": null,
      "outputs": []
    },
    {
      "cell_type": "code",
      "source": [
        "#Ignore for main analyses\n",
        "#Transforming the date column to datetime, not adding:\n",
        "\n",
        "#biz_reviews_attrs['date'] = pd.to_datetime(biz_reviews_attrs['date'])"
      ],
      "metadata": {
        "id": "NqLh_XCfT7Dk"
      },
      "execution_count": null,
      "outputs": []
    },
    {
      "cell_type": "code",
      "source": [
        "#Datetimes are all ints now in their new columns\n",
        "#type(biz_reviews_attrs['review_date'][1])"
      ],
      "metadata": {
        "id": "a5wKCu64USD5"
      },
      "execution_count": null,
      "outputs": []
    },
    {
      "cell_type": "code",
      "source": [
        "import os\n",
        "\n",
        "fname = 'yelp_data_ready2.csv'\n",
        "\n",
        "directory = './Desktop'\n",
        "if not os.path.exists(directory):\n",
        "    os.mkdir(directory)\n",
        "\n",
        "path = os.path.join(directory, fname)    \n",
        "\n",
        "biz_reviews_attrs.to_csv(path)\n",
        "\n",
        "#Path is : /content/Desktop/yelp_data_ready.csv"
      ],
      "metadata": {
        "id": "W8NXiJFjUd1g"
      },
      "execution_count": null,
      "outputs": []
    },
    {
      "cell_type": "code",
      "source": [
        "!ls Desktop"
      ],
      "metadata": {
        "id": "Ul1LQG6kUfCn"
      },
      "execution_count": null,
      "outputs": []
    },
    {
      "cell_type": "code",
      "source": [
        "# restaurants['omnivore_review'] = restaurants.apply(lambda x: is_omnivore(x['vegetarian_review'],x['vegan_review']), axis = 1)"
      ],
      "metadata": {
        "id": "bI4xcVi8WVgx"
      },
      "execution_count": null,
      "outputs": []
    },
    {
      "cell_type": "code",
      "source": [
        "# def veg_code(is_vegetarian,is_vegan):\n",
        "#   if is_vegetarian:\n",
        "#     return 'Vegetarian'\n",
        "#   if is_vegan:\n",
        "#     return 'Vegan'\n",
        "#   return 'Omnivore'"
      ],
      "metadata": {
        "id": "vojE1gSCWaB_"
      },
      "execution_count": null,
      "outputs": []
    },
    {
      "cell_type": "code",
      "source": [
        "# restaurants['review_veg_code'] = restaurants.apply(lambda x: veg_code(x['vegetarian_review'],x['vegan_review']), axis = 1)"
      ],
      "metadata": {
        "id": "pg93jc4vWcjx"
      },
      "execution_count": null,
      "outputs": []
    },
    {
      "cell_type": "code",
      "source": [
        "#Full text entries are only viewable one at a time\n",
        "biz_reviews_attrs['text'][3]"
      ],
      "metadata": {
        "id": "Pg5bdiaZWfjB"
      },
      "execution_count": null,
      "outputs": []
    },
    {
      "cell_type": "code",
      "source": [
        "#Make a graph of how ratings of vegetarian/vegan trends_df differ if reviewer is veg versus omni (imagine 3 separate panels )\n",
        "#What is a proxy for user diet status?  Would assuming that if >15% of their comments have the word vegan or vegetarian work?  \n",
        "#How do I get all the reviews within/by a given user?\n",
        "\n",
        "def veg_quant(x_vegetarian,x_vegan):\n",
        "  if ((x_vegetarian >= 0.15) & (x_vegan >= 0.15)):\n",
        "    return 'Vegan'\n",
        "  elif ((x_vegetarian < 0.15) & (x_vegan >= 0.15)):\n",
        "    return 'Vegan'\n",
        "  elif ((x_vegetarian >= 0.15) & (x_vegan < 0.15)):\n",
        "    return 'Vegetarian'\n",
        "  else:\n",
        "    return 'Omnivore'\n",
        "\n",
        "\n",
        "#user_id is the reviewer column\n",
        "#Text is the review content column\n",
        "\n",
        "#Need to do the same for trends_df\n",
        "\n",
        "#proportion of reviews by veg_code\n",
        "user_veg_code = biz_reviews_attrs.groupby(['user_id'])[['is_vegan_restaurant', 'is_vegetarian_restaurant','is_omnivore_restaurant']].mean()\n",
        "\n",
        "\n",
        "#biz_veg_code = trends_df.groupby(['business_id'])[['vegan_review', 'vegetarian_review','omnivore_review']].mean()\n",
        "\n",
        "user_veg_code.columns = ['user_vegan', 'user_vegetarian', 'user_omnivore']\n",
        "#biz_veg_code.columns = ['biz_vegan', 'biz_vegetarian', 'biz_omnivore']\n",
        "\n",
        "\n",
        "biz_reviews_attrs = pd.merge(biz_reviews_attrs, user_veg_code, how = 'left', on = 'user_id')\n",
        "#trends_df = pd.merge(trends_df, biz_veg_code, how = 'left', on = 'business_id')\n",
        "\n",
        "biz_reviews_attrs.head()\n",
        "\n",
        "\n",
        "\n",
        "\n",
        "\n",
        "\n",
        "\n",
        "\n",
        "# def reviewer_code(user_id,text):\n",
        "#   if ('vegetarian' in text & 'vegan' in text):\n",
        "#     return 'vegan'\n",
        "\n",
        "#   elif ('vegetarian' in text):\n",
        "#     return 'vegetarian'\n",
        "\n",
        "#   elif ('vegan' in text):\n",
        "#     return 'vegan'\n",
        "\n",
        "#   else: return 'omnivore'\n"
      ],
      "metadata": {
        "id": "1FE4ozh9Yt0E"
      },
      "execution_count": null,
      "outputs": []
    },
    {
      "cell_type": "code",
      "source": [
        "biz_reviews_attrs['user_veg_code'] = biz_reviews_attrs.apply(lambda x: veg_quant(x['user_vegetarian'],x['user_vegan']), axis = 1)\n",
        "\n",
        "\n",
        "#fig3 = px.line(data_frame = grouped_df, x='review_year', y='stars', line_group = ['user_vegan', 'user_vegetarian','user_omnivore'], color = 'user_veg_code')\n",
        "\n"
      ],
      "metadata": {
        "id": "tlXUm6s_aD1_"
      },
      "execution_count": null,
      "outputs": []
    },
    {
      "cell_type": "code",
      "source": [
        "#Lightweight NLP \n",
        "\n",
        "#Average NLP sentiment score over time/by year\n",
        "from wordcloud import WordCloud\n",
        "#Wordcloud on positive and negative reviews\n",
        "\n",
        "!pip install transformers\n",
        "\n",
        "# Import libraries\n",
        "from transformers import pipeline\n",
        "\n",
        "# Create an NLP pipeline that runs sentiment analysis\n",
        "classifier = pipeline(\"sentiment-analysis\")\n",
        "\n",
        "# Classify some text (this may download some data and models the first time you run it)\n",
        "#sentiment_1 = classifier(\"I hate machine learning! It's the absolute worst.\")\n",
        "#sentiment_2 = classifier(\"Machine learning is the absolute bees knees I love it so much!\")\n",
        "\n",
        "# Print sentiment output\n",
        "#print(sentiment_1, sentiment_2)"
      ],
      "metadata": {
        "id": "GkGEJYEAv2rd"
      },
      "execution_count": null,
      "outputs": []
    },
    {
      "cell_type": "code",
      "source": [
        "restaurants['sentiment'] = [classifier(\"\".join(text.split()[:512])) for text in restaurants['text']]"
      ],
      "metadata": {
        "id": "PKbr7l94v67g"
      },
      "execution_count": null,
      "outputs": []
    },
    {
      "cell_type": "code",
      "source": [
        "max(restaurants['text'].agg(len))"
      ],
      "metadata": {
        "id": "ZPbBnXWqv8cX"
      },
      "execution_count": null,
      "outputs": []
    },
    {
      "cell_type": "code",
      "source": [
        "#Print text that fails running through sentiment analysis:\n",
        "\n",
        "for text in restaurants['text']:\n",
        "    try:\n",
        "        classifier(\"\".join(text.split()[:512]))\n",
        "    except:\n",
        "        print(text) \n",
        "        raise ValueError"
      ],
      "metadata": {
        "id": "uky92YLYv_Kk"
      },
      "execution_count": null,
      "outputs": []
    },
    {
      "cell_type": "code",
      "source": [
        "large_txt = \"\"\" \n",
        "I think I may have been let down by this place because of all the rave reviews. But the fact is, I've eaten here twice and neither time was spectacular. \n",
        "\n",
        "My expectations of a breakfast place are cheap prices, good food (because eggs are hard to mess up), fast turnover and service. This place has prices on the high end of breakfast place, on weekends they are very crowded and it will take some time to be seated and the food is alright. \n",
        "\n",
        "The last time I went, I was with my husband and we went in the door to a huge crowd. There was no wait to be seated sign, but we guessed correctly and waited. Problem is that you pay and wait in the same place, which meant people were coming and going in a very small area. It was chaos for awhile. Finally we were seated outside at a picnic table and told that other people may be seated with us at the table, because they lacked space. \n",
        "\n",
        "The waitress took some time to arrive and by then we were ready to give our order. I ordered eggs and bacon and toast. We also each ordered fruit smoothies. I asked for mine without banana. The waitress came back a few minutes later and said with a straight face, \"The guys back there put like three bananas in your smoothie!\" \n",
        "\n",
        "It took me a minute to realize she was joking....heh....\n",
        "\n",
        "We played several rounds of Scrabble on an iphone because the food was taking quite awhile and it finally came out. Our drinks were no where to be seen. We had to ask twice for them. By then we were almost done the food!\n",
        "\n",
        "The food was alright, but I usually go to places like Egg Smart and for the cost, they give you way more food, for a better price and honestly, I think it tastes way better. These famous \"Boom frites\" are just thick, cut potatoes and they give you one slice of toast! \n",
        "\n",
        "Anyway, if you're in the area and really want some breakfast, it's not terrible, but I think you can do way better! \n",
        "\n",
        "Oh, and I disagree that it's a good place for a group. Unless you want to wait forever...or make a group by joining another couple at their picnic table!\n",
        "\n",
        "\"\"\""
      ],
      "metadata": {
        "id": "ffkiFbIGwIqQ"
      },
      "execution_count": null,
      "outputs": []
    },
    {
      "cell_type": "code",
      "source": [
        "#Note that the classifier evaluates the text above as positive!  This is concerning for quality issues.\n",
        "\n",
        "classifier(large_txt)"
      ],
      "metadata": {
        "id": "wvfGGYrVwJqN"
      },
      "execution_count": null,
      "outputs": []
    },
    {
      "cell_type": "code",
      "source": [
        "results = []\n",
        "for text in restaurants['text']:\n",
        "    try:\n",
        "        results.append(classifier(\"\".join(text.split()[:512])))\n",
        "    except Exception as e:\n",
        "        results.append(None)\n",
        "        print(e) "
      ],
      "metadata": {
        "id": "6jDrqXOVwP9L"
      },
      "execution_count": null,
      "outputs": []
    },
    {
      "cell_type": "code",
      "source": [
        "classifier(large_txt[:512])"
      ],
      "metadata": {
        "id": "obnc87yEwS0X"
      },
      "execution_count": null,
      "outputs": []
    },
    {
      "cell_type": "code",
      "source": [
        "restaurants['sentiment'] = results"
      ],
      "metadata": {
        "id": "m5WdbGN6x9AS"
      },
      "execution_count": null,
      "outputs": []
    },
    {
      "cell_type": "code",
      "source": [
        "#Score of classifier is confidence \n",
        "#Can compare counts of 'Positive' and 'Negative' - but this may be unreliable.\n",
        "#Note that the example of \"large_txt\" gives the wrong sentiment at high confidence"
      ],
      "metadata": {
        "id": "cJiH9_rSx_my"
      },
      "execution_count": null,
      "outputs": []
    },
    {
      "cell_type": "code",
      "source": [
        "import re\n",
        "\n",
        "# Convert all the string to lower cases\n",
        "restaurants['text'] = restaurants['text'].str.lower()\n",
        "\n",
        "# \\s+ means all empty space (\\n, \\r, \\t)\n",
        "restaurants['text'] = restaurants['text'].apply(lambda x: re.sub('\\s+', ' ', x))\n",
        "\n",
        "#remove punctuation\n",
        "restaurants['text'] = restaurants['text'].apply(lambda x: re.sub('[^\\w\\s]', '', x))\n",
        "\n",
        "import nltk\n",
        "\n",
        "# Uncomment the following line the first time you run the code\n",
        "nltk.download('stopwords')\n",
        "nltk.download('wordnet')\n",
        "nltk.download('punkt')\n",
        "\n",
        "\n",
        "from nltk.corpus import stopwords\n",
        "stop = stopwords.words('english')\n",
        "#print(stop)\n",
        "\n",
        "#removing stopwords\n",
        "restaurants['text'] = restaurants['text'].apply(lambda text: \" \".join(word for word in text.split() if word not in stop))"
      ],
      "metadata": {
        "id": "nLSvh86bysUX"
      },
      "execution_count": null,
      "outputs": []
    },
    {
      "cell_type": "code",
      "source": [
        "wc = WordCloud(background_color=\"white\", max_words=2000, width=800, height=400)\n",
        "# generate vegan word cloud\n",
        "wc.generate(' '.join(restaurants[restaurants['biz_veg_code'] == 'Vegan']['text']))\n",
        "\n",
        "# show\n",
        "plt.figure(figsize=(12, 6))\n",
        "plt.imshow(wc, interpolation='bilinear')\n",
        "plt.axis(\"off\")\n",
        "plt.show()"
      ],
      "metadata": {
        "id": "s-OOHxG5yyE-"
      },
      "execution_count": null,
      "outputs": []
    },
    {
      "cell_type": "code",
      "source": [
        "wc2 = WordCloud(background_color=\"white\", max_words=2000, width=800, height=400)\n",
        "# generate vegetarian word cloud\n",
        "wc2.generate(' '.join(restaurants[restaurants['biz_veg_code'] == 'Vegetarian']['text']))\n",
        "\n",
        "# show\n",
        "plt.figure(figsize=(12, 6))\n",
        "plt.imshow(wc2, interpolation='bilinear')\n",
        "plt.axis(\"off\")\n",
        "plt.show()"
      ],
      "metadata": {
        "id": "ywuMj6g5y5Mt"
      },
      "execution_count": null,
      "outputs": []
    },
    {
      "cell_type": "code",
      "source": [
        "#This file is too big to run on the merged data.  \n",
        "\n",
        "wc3 = WordCloud(background_color=\"white\", max_words=2000, width=800, height=400)\n",
        "# generate vegan word cloud\n",
        "wc3.generate(' '.join(restaurants[restaurants['biz_veg_code'] == 'Omnivore']['text']))\n",
        "# show\n",
        "plt.figure(figsize=(12, 6))\n",
        "plt.imshow(wc3, interpolation='bilinear')\n",
        "plt.axis(\"off\")\n",
        "plt.show()"
      ],
      "metadata": {
        "id": "ycsh5PpfzE0t"
      },
      "execution_count": null,
      "outputs": []
    },
    {
      "cell_type": "code",
      "source": [
        "#Failed attempt to run wordcloud on 1/3 of the data:\n",
        "\n",
        "#DO NOT RUN\n",
        "reviews_df1 = reviews_df1.loc[reviews_df1['text'].str.contains(\"food\", case=False, flags=0, na=None, regex = False)]\n",
        "reviews_df1['vegetarian_review'] = reviews_df1['text'].str.contains(\"vegetarian\", case=False, flags=0, na=None, regex = False)\n",
        "reviews_df1['vegan_review'] = reviews_df1['text'].str.contains(\"vegan\", case=False, flags=0, na=None, regex = False)\n",
        "\n",
        "reviews_df1['review_veg_code'] = reviews_df1.apply(lambda x: veg_code(x['vegetarian_review'],x['vegan_review']), axis = 1)\n",
        "reviews_df1['omnivore_review'] = reviews_df1.apply(lambda x: is_omnivore(x['vegetarian_review'],x['vegan_review']), axis = 1)\n",
        "\n",
        "user_veg_code = reviews_df1.groupby(['user_id'])[['vegan_review', 'vegetarian_review','omnivore_review']].mean()\n",
        "biz_veg_code = reviews_df1.groupby(['business_id'])[['vegan_review', 'vegetarian_review','omnivore_review']].mean()\n",
        "\n",
        "user_veg_code.columns = ['user_vegan', 'user_vegetarian', 'user_omnivore']\n",
        "biz_veg_code.columns = ['biz_vegan', 'biz_vegetarian', 'biz_omnivore']\n",
        "\n",
        "reviews_df1 = pd.merge(reviews_df1, user_veg_code, how = 'left', on = 'user_id')\n",
        "reviews_df1 = pd.merge(reviews_df1, biz_veg_code, how = 'left', on = 'business_id')\n",
        "\n",
        "\n",
        "\n",
        "reviews_df1['user_veg_code'] = reviews_df1.apply(lambda x: veg_quant(x['user_vegetarian'],x['user_vegan']), axis = 1)\n",
        "reviews_df1['biz_veg_code'] = reviews_df1.apply(lambda x: veg_quant(x['biz_vegetarian'],x['biz_vegan']), axis = 1)\n",
        "\n",
        "reviews_df1.head()\n",
        "\n",
        "from wordcloud import WordCloud\n",
        "\n",
        "wc4 = WordCloud(background_color=\"white\", max_words=2000, width=800, height=400)\n",
        "wc4.generate(' '.join(reviews_df1[reviews_df1['biz_veg_code'] == 'Omnivore']['text']))"
      ],
      "metadata": {
        "id": "2ow7EYexzamT"
      },
      "execution_count": null,
      "outputs": []
    },
    {
      "cell_type": "code",
      "source": [
        "#TRYNG SENTIMENT ANALYSIS WITH RANDOMLY SAMPLED SUBSET OF DATA\n",
        "\n",
        "df['date'] = pd.to_datetime(df['date'])\n",
        "\n",
        "df['review_year'] = df['date'].dt.year\n",
        "df['review_month'] = df['date'].dt.month\n",
        "df['review_day'] = df['date'].dt.day\n",
        "\n",
        "#merged_reviews_123.loc[merged_reviews_123['text'].str.contains(\"food\", case=False, flags=0, na=None, regex = False)]\n",
        "df['vegetarian_review'] = df['text'].str.contains(\"vegetarian\", case=False, flags=0, na=None, regex = False)\n",
        "df['vegan_review'] = df['text'].str.contains(\"vegan\", case=False, flags=0, na=None, regex = False)\n",
        "\n",
        "df['review_veg_code'] = df.apply(lambda x: veg_code(x['vegetarian_review'],x['vegan_review']), axis = 1)\n",
        "df['omnivore_review'] = df.apply(lambda x: is_omnivore(x['vegetarian_review'],x['vegan_review']), axis = 1)\n",
        "\n",
        "user_veg_code = df.groupby(['user_id'])[['vegan_review', 'vegetarian_review','omnivore_review']].mean()\n",
        "biz_veg_code = df.groupby(['business_id'])[['vegan_review', 'vegetarian_review','omnivore_review']].mean()\n",
        "\n",
        "user_veg_code.columns = ['user_vegan', 'user_vegetarian', 'user_omnivore']\n",
        "biz_veg_code.columns = ['biz_vegan', 'biz_vegetarian', 'biz_omnivore']\n",
        "\n",
        "df = pd.merge(df, user_veg_code, how = 'left', on = 'user_id')\n",
        "df = pd.merge(df, biz_veg_code, how = 'left', on = 'business_id')\n",
        "\n",
        "df['user_veg_code'] = df.apply(lambda x: veg_quant(x['user_vegetarian'],x['user_vegan']), axis = 1)\n",
        "df['biz_veg_code'] = df.apply(lambda x: veg_quant(x['biz_vegetarian'],x['biz_vegan']), axis = 1)"
      ],
      "metadata": {
        "id": "1PHF5XMszbe_"
      },
      "execution_count": null,
      "outputs": []
    },
    {
      "cell_type": "code",
      "source": [
        "import re\n",
        "\n",
        "# Convert all the string to lower cases\n",
        "df['text'] = df['text'].str.lower()\n",
        "\n",
        "# \\s+ means all empty space (\\n, \\r, \\t)\n",
        "df['text'] = df['text'].apply(lambda x: re.sub('\\s+', ' ', x))\n",
        "\n",
        "#remove punctuation\n",
        "df['text'] = df['text'].apply(lambda x: re.sub('[^\\w\\s]', '', x))\n",
        "\n",
        "import nltk\n",
        "\n",
        "# Uncomment the following line the first time you run the code\n",
        "#nltk.download('stopwords')\n",
        "#nltk.download('wordnet')\n",
        "#nltk.download('punkt')\n",
        "\n",
        "\n",
        "from nltk.corpus import stopwords\n",
        "stop = stopwords.words('english')\n",
        "#print(stop)\n",
        "\n",
        "#removing stopwords\n",
        "df['text'] = df['text'].apply(lambda text: \" \".join(word for word in text.split() if word not in stop))"
      ],
      "metadata": {
        "id": "XoXRTa8R0IJN"
      },
      "execution_count": null,
      "outputs": []
    },
    {
      "cell_type": "code",
      "source": [
        "from wordcloud import WordCloud\n",
        "\n",
        "wc4 = WordCloud(background_color=\"white\", max_words=2000, width=800, height=400)\n",
        "wc4.generate(' '.join(df[df['biz_veg_code'] == 'Omnivore']['text']))\n",
        "\n",
        "# show\n",
        "plt.figure(figsize=(12, 6))\n",
        "plt.imshow(wc4, interpolation='bilinear')\n",
        "plt.axis(\"off\")\n",
        "plt.show()"
      ],
      "metadata": {
        "id": "q2C9eKjA0JJi"
      },
      "execution_count": null,
      "outputs": []
    },
    {
      "cell_type": "code",
      "source": [
        "results = []\n",
        "for text in df['text']:\n",
        "  results.append(classifier(text))"
      ],
      "metadata": {
        "id": "HI30iC0T0MJL"
      },
      "execution_count": null,
      "outputs": []
    },
    {
      "cell_type": "code",
      "source": [
        "results[0:5]"
      ],
      "metadata": {
        "id": "XJCNPOO30YJ8"
      },
      "execution_count": null,
      "outputs": []
    },
    {
      "cell_type": "code",
      "source": [
        "len(df['text'][3])"
      ],
      "metadata": {
        "id": "7OwJ9qW60cvd"
      },
      "execution_count": null,
      "outputs": []
    },
    {
      "cell_type": "code",
      "source": [
        "classifier(df['text'][3])"
      ],
      "metadata": {
        "id": "u1FDG5-e0fCj"
      },
      "execution_count": null,
      "outputs": []
    },
    {
      "cell_type": "code",
      "source": [
        "len(df['text'][2].split(' '))"
      ],
      "metadata": {
        "id": "SLziMvy80hIL"
      },
      "execution_count": null,
      "outputs": []
    },
    {
      "cell_type": "code",
      "source": [
        "#String split the text column\n",
        "#If length > 512, index it from 0 to 511, else return original list\n",
        "#convert list to string\n",
        "#run classifier on reduced text column (it only works on strings, not lists)"
      ],
      "metadata": {
        "id": "gDCOkpIs0lkP"
      },
      "execution_count": null,
      "outputs": []
    }
  ]
}